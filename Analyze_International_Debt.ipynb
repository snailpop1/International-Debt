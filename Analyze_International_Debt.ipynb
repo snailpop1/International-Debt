{
 "cells": [
  {
   "attachments": {},
   "cell_type": "markdown",
   "metadata": {},
   "source": [
    "# Analyzing International Debt Data\n",
    "\n",
    "In this notebook, we will analyze the international debt data collected by The World Bank. The dataset contains information about the amount of debt (in USD) owed by developing countries across several categories. The goal is to extract insights into how different countries manage their debt and understand the distribution of debt indicators across various nations.\n",
    "\n",
    "Throughout this notebook, we will use SQL queries to interact with the dataset stored in a MySQL database. Each query is designed to answer specific questions about the dataset, ranging from summarizing the total debt to identifying the countries with the highest debt in specific categories.\n"
   ]
  },
  {
   "attachments": {},
   "cell_type": "markdown",
   "metadata": {},
   "source": [
    "## 1. Displaying the First 10 Rows of Data\n",
    "\n",
    "To begin our analysis, we start by inspecting the first 10 rows of the `international_debt` table. This gives us an overview of the structure and content of the dataset, including the country names, indicator codes, and the corresponding debt amounts.\n",
    "\n",
    "By limiting the result to 10 rows, we keep the output manageable while still gaining valuable insights into the nature of the data.\n"
   ]
  },
  {
   "cell_type": "code",
   "execution_count": 34,
   "metadata": {},
   "outputs": [
    {
     "name": "stdout",
     "output_type": "stream",
     "text": [
      "(('Afghanistan', 'AFG', 'Disbursements on external debt, long-term (DIS, current US$)', 'DT.DIS.DLXF.CD', Decimal('72894453.70')), ('Afghanistan', 'AFG', 'Interest payments on external debt, long-term (INT, current US$)', 'DT.INT.DLXF.CD', Decimal('53239440.10')), ('Afghanistan', 'AFG', 'PPG, bilateral (AMT, current US$)', 'DT.AMT.BLAT.CD', Decimal('61739336.90')), ('Afghanistan', 'AFG', 'PPG, bilateral (DIS, current US$)', 'DT.DIS.BLAT.CD', Decimal('49114729.40')), ('Afghanistan', 'AFG', 'PPG, bilateral (INT, current US$)', 'DT.INT.BLAT.CD', Decimal('39903620.10')), ('Afghanistan', 'AFG', 'PPG, multilateral (AMT, current US$)', 'DT.AMT.MLAT.CD', Decimal('39107845.00')), ('Afghanistan', 'AFG', 'PPG, multilateral (DIS, current US$)', 'DT.DIS.MLAT.CD', Decimal('23779724.30')), ('Afghanistan', 'AFG', 'PPG, multilateral (INT, current US$)', 'DT.INT.MLAT.CD', Decimal('13335820.00')), ('Afghanistan', 'AFG', 'PPG, official creditors (AMT, current US$)', 'DT.AMT.OFFT.CD', Decimal('100847181.90')), ('Afghanistan', 'AFG', 'PPG, official creditors (DIS, current US$)', 'DT.DIS.OFFT.CD', Decimal('72894453.70')))\n"
     ]
    }
   ],
   "source": [
    "import pymysql\n",
    "conn = pymysql.connect(\n",
    "    host = \"localhost\",\n",
    "    user = \"root\",\n",
    "    password = \"\",\n",
    "    database = \"World_Debt\"\n",
    ")\n",
    "\n",
    "cur = conn.cursor()\n",
    "\n",
    "cur.execute(\"SELECT * FROM international_debt LIMIT 10\")\n",
    "\n",
    "result = cur.fetchall()\n",
    "\n",
    "print(result)\n"
   ]
  },
  {
   "attachments": {},
   "cell_type": "markdown",
   "metadata": {},
   "source": [
    "## 2. Counting the Total Number of Distinct Countries\n",
    "\n",
    "This query counts the number of distinct countries represented in the `international_debt` table. By using the `COUNT(DISTINCT country_name)` function, we ensure that each country is counted only once, regardless of how many records it has in the dataset.\n",
    "\n",
    "This information is crucial for understanding the dataset's scope, as it tells us how many unique countries are involved in the recorded debt data. Knowing the total number of distinct countries helps in contextualizing the analysis and can guide further country-specific investigations.\n",
    "\n",
    "\n"
   ]
  },
  {
   "cell_type": "code",
   "execution_count": 22,
   "metadata": {},
   "outputs": [
    {
     "name": "stdout",
     "output_type": "stream",
     "text": [
      "Total distinct countries: 124\n"
     ]
    }
   ],
   "source": [
    "# Execute the query\n",
    "cur.execute(\"\"\"\n",
    "    SELECT COUNT(DISTINCT country_name) AS total_distinct_countries\n",
    "    FROM international_debt\n",
    "\"\"\")\n",
    "\n",
    "# Fetch the result\n",
    "total_distinct_countries = cur.fetchone()\n",
    "\n",
    "# Print the result\n",
    "print(f\"Total distinct countries: {total_distinct_countries[0]}\")\n"
   ]
  },
  {
   "attachments": {},
   "cell_type": "markdown",
   "metadata": {},
   "source": [
    "## 3. Listing All Distinct Debt Indicators\n",
    "\n",
    "This query retrieves all distinct debt indicators from the `international_debt` table. By using the `DISTINCT` keyword, the query ensures that each `indicator_code` is listed only once, providing a unique set of debt indicators. The results are then ordered alphabetically by `indicator_code`.\n",
    "\n",
    "This analysis is useful for understanding the range of debt categories tracked in the dataset. By listing all distinct indicators, we gain insights into the various types of financial obligations recorded, which can be important for subsequent analyses focused on specific debt types.\n",
    "\n"
   ]
  },
  {
   "cell_type": "code",
   "execution_count": 27,
   "metadata": {},
   "outputs": [
    {
     "name": "stdout",
     "output_type": "stream",
     "text": [
      "   distinct_debt_indicators\n",
      "0            DT.AMT.BLAT.CD\n",
      "1            DT.AMT.DLXF.CD\n",
      "2            DT.AMT.DPNG.CD\n",
      "3            DT.AMT.MLAT.CD\n",
      "4            DT.AMT.OFFT.CD\n",
      "5            DT.AMT.PBND.CD\n",
      "6            DT.AMT.PCBK.CD\n",
      "7            DT.AMT.PROP.CD\n",
      "8            DT.AMT.PRVT.CD\n",
      "9            DT.DIS.BLAT.CD\n",
      "10           DT.DIS.DLXF.CD\n",
      "11           DT.DIS.MLAT.CD\n",
      "12           DT.DIS.OFFT.CD\n",
      "13           DT.DIS.PCBK.CD\n",
      "14           DT.DIS.PROP.CD\n",
      "15           DT.DIS.PRVT.CD\n",
      "16           DT.INT.BLAT.CD\n",
      "17           DT.INT.DLXF.CD\n",
      "18           DT.INT.DPNG.CD\n",
      "19           DT.INT.MLAT.CD\n",
      "20           DT.INT.OFFT.CD\n",
      "21           DT.INT.PBND.CD\n",
      "22           DT.INT.PCBK.CD\n",
      "23           DT.INT.PROP.CD\n",
      "24           DT.INT.PRVT.CD\n"
     ]
    }
   ],
   "source": [
    "# Execute the query\n",
    "cur.execute(\"\"\"\n",
    "    SELECT DISTINCT indicator_code AS distinct_debt_indicators\n",
    "    FROM international_debt\n",
    "    ORDER BY distinct_debt_indicators\n",
    "\"\"\")\n",
    "\n",
    "# Fetch all results\n",
    "distinct_debt_indicators = cur.fetchall()\n",
    "\n",
    "# Create DataFrame and display it\n",
    "df = pd.DataFrame(distinct_debt_indicators, columns=[\"distinct_debt_indicators\"])\n",
    "print(df)\n"
   ]
  },
  {
   "attachments": {},
   "cell_type": "markdown",
   "metadata": {},
   "source": [
    "## 4. Calculating the Total Debt in Millions\n",
    "\n",
    "This query calculates the total debt recorded in the dataset, expressed in millions of USD. By summing the `debt` values and dividing by 1,000,000, we convert the total debt into millions. The `ROUND` function is then used to round the result to two decimal places for clarity.\n",
    "\n",
    "This summary statistic provides a high-level overview of the total debt burden captured in the dataset, offering a sense of the scale of international debt among the countries included.\n"
   ]
  },
  {
   "cell_type": "code",
   "execution_count": 28,
   "metadata": {},
   "outputs": [
    {
     "name": "stdout",
     "output_type": "stream",
     "text": [
      "Total debt (in millions): 3079734.49 million USD\n"
     ]
    }
   ],
   "source": [
    "# Execute the query\n",
    "cur.execute(\"\"\"\n",
    "    SELECT \n",
    "        ROUND(SUM(debt/1000000), 2) AS total_debt\n",
    "    FROM international_debt\n",
    "\"\"\")\n",
    "\n",
    "# Fetch the result\n",
    "total_debt = cur.fetchone()\n",
    "\n",
    "# Print the result with column name\n",
    "print(f\"Total debt (in millions): {total_debt[0]} million USD\")\n",
    "\n"
   ]
  },
  {
   "attachments": {},
   "cell_type": "markdown",
   "metadata": {},
   "source": [
    "## 5. Identifying the Country with the Highest Total Debt\n",
    "\n",
    "This query identifies the country with the highest total debt in the dataset. By using the `SUM` function, the query calculates the total debt for each country by summing all debt entries associated with that country. The results are grouped by `country_name` and ordered in descending order of total debt, with the `LIMIT 1` clause ensuring that only the country with the highest debt is returned.\n",
    "\n",
    "This analysis is crucial for understanding which country carries the most significant financial burden in terms of debt, highlighting potential economic challenges or areas where international financial assistance might be most needed.\n"
   ]
  },
  {
   "cell_type": "code",
   "execution_count": 30,
   "metadata": {},
   "outputs": [
    {
     "name": "stdout",
     "output_type": "stream",
     "text": [
      "Country with the highest total debt: China with 285,793,494,734.20 USD\n"
     ]
    }
   ],
   "source": [
    "# Execute the query\n",
    "cur.execute(\"\"\"\n",
    "    SELECT \n",
    "        country_name, \n",
    "        SUM(debt) AS total_debt\n",
    "    FROM international_debt\n",
    "    GROUP BY country_name\n",
    "    ORDER BY total_debt DESC\n",
    "    LIMIT 1\n",
    "\"\"\")\n",
    "\n",
    "# Fetch the result\n",
    "country_with_highest_debt = cur.fetchone()\n",
    "\n",
    "# Print the result\n",
    "print(f\"Country with the highest total debt: {country_with_highest_debt[0]} with {country_with_highest_debt[1]:,.2f} USD\")\n"
   ]
  },
  {
   "attachments": {},
   "cell_type": "markdown",
   "metadata": {},
   "source": [
    "## 6. Top 10 Debt Indicators with the Highest Average Debt\n",
    "\n",
    "This query calculates the average debt associated with each debt indicator across all countries in the dataset. By using the `AVG` function, we compute the mean debt for each `indicator_code`, which is then grouped by both `indicator_code` and `indicator_name`. The results are ordered by the average debt in descending order, and the top 10 indicators are selected.\n",
    "\n",
    "This analysis highlights which debt indicators typically involve the largest financial amounts on average, providing insights into the most significant types of debt obligations faced by countries. Understanding these indicators can help prioritize economic policy discussions and financial management strategies.\n"
   ]
  },
  {
   "cell_type": "code",
   "execution_count": 32,
   "metadata": {},
   "outputs": [
    {
     "name": "stdout",
     "output_type": "stream",
     "text": [
      "DT.AMT.DLXF.CD - Principal repayments on external debt, long-term (AMT, current US$): 5,904,868,401.50 USD\n",
      "DT.AMT.DPNG.CD - Principal repayments on external debt, private nonguaranteed (PNG) (AMT, current US$): 5,161,194,333.81 USD\n",
      "DT.DIS.DLXF.CD - Disbursements on external debt, long-term (DIS, current US$): 2,152,041,216.89 USD\n",
      "DT.DIS.OFFT.CD - PPG, official creditors (DIS, current US$): 1,958,983,452.86 USD\n",
      "DT.AMT.PRVT.CD - PPG, private creditors (AMT, current US$): 1,803,694,101.96 USD\n",
      "DT.INT.DLXF.CD - Interest payments on external debt, long-term (INT, current US$): 1,644,024,067.65 USD\n",
      "DT.DIS.BLAT.CD - PPG, bilateral (DIS, current US$): 1,223,139,290.40 USD\n",
      "DT.INT.DPNG.CD - Interest payments on external debt, private nonguaranteed (PNG) (INT, current US$): 1,220,410,844.42 USD\n",
      "DT.AMT.OFFT.CD - PPG, official creditors (AMT, current US$): 1,191,187,963.08 USD\n",
      "DT.AMT.PBND.CD - PPG, bonds (AMT, current US$): 1,082,623,947.65 USD\n"
     ]
    }
   ],
   "source": [
    "# Execute the query\n",
    "cur.execute(\"\"\"\n",
    "    SELECT \n",
    "        indicator_code AS debt_indicator,\n",
    "        indicator_name,\n",
    "        AVG(debt) AS average_debt\n",
    "    FROM international_debt\n",
    "    GROUP BY debt_indicator, indicator_name\n",
    "    ORDER BY average_debt DESC\n",
    "    LIMIT 10\n",
    "\"\"\")\n",
    "\n",
    "# Fetch all results\n",
    "top_average_debt_indicators = cur.fetchall()\n",
    "\n",
    "# Print the results\n",
    "for indicator in top_average_debt_indicators:\n",
    "    print(f\"{indicator[0]} - {indicator[1]}: {indicator[2]:,.2f} USD\")\n"
   ]
  },
  {
   "attachments": {},
   "cell_type": "markdown",
   "metadata": {},
   "source": [
    "## 7. Identifying the Country with the Highest Debt in a Specific Indicator\n",
    "\n",
    "In this query, we aim to find out which country has the highest debt for a specific debt indicator, namely `DT.AMT.DLXF.CD`. This indicator represents a particular category of debt, and by using the `MAX` function within a subquery, we identify the maximum debt value associated with this indicator. The outer query then retrieves the `country_name` and `indicator_name` corresponding to this maximum debt.\n",
    "\n",
    "This analysis is useful for pinpointing which country is most heavily indebted under this specific debt category, providing insights into the distribution of debt across different nations for particular financial obligations.\n"
   ]
  },
  {
   "cell_type": "code",
   "execution_count": 14,
   "metadata": {},
   "outputs": [
    {
     "name": "stdout",
     "output_type": "stream",
     "text": [
      "Country: China, Indicator Name: Principal repayments on external debt, long-term (AMT, current US$)\n"
     ]
    }
   ],
   "source": [
    "# Execute the query\n",
    "cur.execute(\"\"\"\n",
    "    SELECT \n",
    "        country_name, \n",
    "        indicator_name\n",
    "    FROM international_debt\n",
    "    WHERE debt IN (\n",
    "        SELECT \n",
    "            MAX(debt)\n",
    "        FROM international_debt\n",
    "        WHERE indicator_code = 'DT.AMT.DLXF.CD'\n",
    "    )\n",
    "\"\"\")\n",
    "\n",
    "# Fetch all results\n",
    "result = cur.fetchall()\n",
    "\n",
    "# Print the results\n",
    "for row in result:\n",
    "    print(f\"Country: {row[0]}, Indicator Name: {row[1]}\")\n"
   ]
  },
  {
   "attachments": {},
   "cell_type": "markdown",
   "metadata": {},
   "source": [
    "## 8. Top 20 Most Frequent Debt Indicators\n",
    "\n",
    "This query counts the occurrences of each debt indicator in the dataset, allowing us to identify the most commonly reported types of debt. The `COUNT(*)` function is used to count the number of times each `indicator_code` appears in the `international_debt` table. The results are grouped by `indicator_code` and ordered first by the frequency of occurrence in descending order, and then by the `indicator_code` in descending order as a secondary sort criterion.\n",
    "\n",
    "By limiting the results to the top 20 indicators, we focus on the most significant debt categories, providing insights into the types of debt that are most prevalent across countries. Understanding these patterns can help in assessing the global financial landscape and identifying key areas of economic focus.\n"
   ]
  },
  {
   "cell_type": "code",
   "execution_count": 15,
   "metadata": {},
   "outputs": [
    {
     "name": "stdout",
     "output_type": "stream",
     "text": [
      "Indicator Code: DT.INT.OFFT.CD, Count: 124\n",
      "Indicator Code: DT.INT.MLAT.CD, Count: 124\n",
      "Indicator Code: DT.INT.DLXF.CD, Count: 124\n",
      "Indicator Code: DT.AMT.OFFT.CD, Count: 124\n",
      "Indicator Code: DT.AMT.MLAT.CD, Count: 124\n",
      "Indicator Code: DT.AMT.DLXF.CD, Count: 124\n",
      "Indicator Code: DT.DIS.DLXF.CD, Count: 123\n",
      "Indicator Code: DT.INT.BLAT.CD, Count: 122\n",
      "Indicator Code: DT.DIS.OFFT.CD, Count: 122\n",
      "Indicator Code: DT.AMT.BLAT.CD, Count: 122\n",
      "Indicator Code: DT.DIS.MLAT.CD, Count: 120\n",
      "Indicator Code: DT.DIS.BLAT.CD, Count: 113\n",
      "Indicator Code: DT.INT.PRVT.CD, Count: 98\n",
      "Indicator Code: DT.AMT.PRVT.CD, Count: 98\n",
      "Indicator Code: DT.INT.PCBK.CD, Count: 84\n",
      "Indicator Code: DT.AMT.PCBK.CD, Count: 84\n",
      "Indicator Code: DT.INT.DPNG.CD, Count: 79\n",
      "Indicator Code: DT.AMT.DPNG.CD, Count: 79\n",
      "Indicator Code: DT.INT.PBND.CD, Count: 69\n",
      "Indicator Code: DT.AMT.PBND.CD, Count: 69\n"
     ]
    }
   ],
   "source": [
    "# Execute the query\n",
    "cur.execute(\"\"\"\n",
    "    SELECT indicator_code, COUNT(*) AS indicator_count\n",
    "    FROM international_debt\n",
    "    GROUP BY indicator_code\n",
    "    ORDER BY indicator_count DESC, indicator_code DESC\n",
    "    LIMIT 20\n",
    "\"\"\")\n",
    "\n",
    "# Fetch all results\n",
    "top_indicators = cur.fetchall()\n",
    "\n",
    "# Print the results\n",
    "for indicator in top_indicators:\n",
    "    print(f\"Indicator Code: {indicator[0]}, Count: {indicator[1]}\")\n"
   ]
  },
  {
   "attachments": {},
   "cell_type": "markdown",
   "metadata": {},
   "source": [
    "## 9. Top 10 Countries with the Highest Maximum Debt\n",
    "\n",
    "In this query, we aim to identify the top 10 countries that have the highest maximum debt recorded across all debt indicators. By using the `MAX` function, we retrieve the single largest debt value for each country. The results are then sorted in descending order to highlight the countries with the most significant individual debt amounts.\n",
    "\n",
    "This analysis helps us understand which countries have the largest individual debt entries and may provide insights into specific economic events or financial commitments that led to such high levels of debt.\n"
   ]
  },
  {
   "cell_type": "code",
   "execution_count": 16,
   "metadata": {},
   "outputs": [
    {
     "name": "stdout",
     "output_type": "stream",
     "text": [
      "Country: China, Maximum Debt: 96,218,620,835.70 USD\n",
      "Country: Brazil, Maximum Debt: 90,041,840,304.10 USD\n",
      "Country: Russian Federation, Maximum Debt: 66,589,761,833.50 USD\n",
      "Country: Turkey, Maximum Debt: 51,555,031,005.80 USD\n",
      "Country: South Asia, Maximum Debt: 48,756,295,898.20 USD\n",
      "Country: Least developed countries: UN classification, Maximum Debt: 40,160,766,261.60 USD\n",
      "Country: IDA only, Maximum Debt: 34,531,188,113.20 USD\n",
      "Country: India, Maximum Debt: 31,923,507,000.80 USD\n",
      "Country: Indonesia, Maximum Debt: 30,916,112,653.80 USD\n",
      "Country: Kazakhstan, Maximum Debt: 27,482,093,686.40 USD\n"
     ]
    }
   ],
   "source": [
    "# Execute the query\n",
    "cur.execute(\"\"\"\n",
    "    SELECT country_name, MAX(debt) AS maximum_debt\n",
    "    FROM international_debt\n",
    "    GROUP BY country_name\n",
    "    ORDER BY maximum_debt DESC\n",
    "    LIMIT 10\n",
    "\"\"\")\n",
    "\n",
    "# Fetch all results\n",
    "top_countries_with_max_debt = cur.fetchall()\n",
    "\n",
    "# Print the results\n",
    "for country in top_countries_with_max_debt:\n",
    "    print(f\"Country: {country[0]}, Maximum Debt: {country[1]:,.2f} USD\")\n"
   ]
  }
 ],
 "metadata": {
  "kernelspec": {
   "display_name": "yo",
   "language": "python",
   "name": "python3"
  },
  "language_info": {
   "codemirror_mode": {
    "name": "ipython",
    "version": 3
   },
   "file_extension": ".py",
   "mimetype": "text/x-python",
   "name": "python",
   "nbconvert_exporter": "python",
   "pygments_lexer": "ipython3",
   "version": "3.12.3"
  },
  "orig_nbformat": 4
 },
 "nbformat": 4,
 "nbformat_minor": 2
}
